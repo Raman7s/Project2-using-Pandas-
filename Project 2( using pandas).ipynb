{
 "cells": [
  {
   "cell_type": "markdown",
   "id": "33c462d4",
   "metadata": {},
   "source": [
    "## When gold price gets less than 100day moving average then a message will be generated on your mobile"
   ]
  },
  {
   "cell_type": "code",
   "execution_count": 8,
   "id": "189efc83",
   "metadata": {},
   "outputs": [],
   "source": [
    "import pandas as pd\n"
   ]
  },
  {
   "cell_type": "code",
   "execution_count": 76,
   "id": "c6403311",
   "metadata": {},
   "outputs": [],
   "source": [
    "# impoting data\n",
    "\n",
    "gold_price = pd.read_csv(\"gold-price.csv\")"
   ]
  },
  {
   "cell_type": "code",
   "execution_count": 77,
   "id": "ba4d7cb0",
   "metadata": {
    "scrolled": false
   },
   "outputs": [
    {
     "data": {
      "text/html": [
       "<div>\n",
       "<style scoped>\n",
       "    .dataframe tbody tr th:only-of-type {\n",
       "        vertical-align: middle;\n",
       "    }\n",
       "\n",
       "    .dataframe tbody tr th {\n",
       "        vertical-align: top;\n",
       "    }\n",
       "\n",
       "    .dataframe thead th {\n",
       "        text-align: right;\n",
       "    }\n",
       "</style>\n",
       "<table border=\"1\" class=\"dataframe\">\n",
       "  <thead>\n",
       "    <tr style=\"text-align: right;\">\n",
       "      <th></th>\n",
       "      <th>No. of days</th>\n",
       "      <th>Name</th>\n",
       "      <th>Price of Gold</th>\n",
       "    </tr>\n",
       "  </thead>\n",
       "  <tbody>\n",
       "    <tr>\n",
       "      <th>0</th>\n",
       "      <td>1</td>\n",
       "      <td>gold</td>\n",
       "      <td>108</td>\n",
       "    </tr>\n",
       "    <tr>\n",
       "      <th>1</th>\n",
       "      <td>2</td>\n",
       "      <td>gold</td>\n",
       "      <td>109</td>\n",
       "    </tr>\n",
       "    <tr>\n",
       "      <th>2</th>\n",
       "      <td>3</td>\n",
       "      <td>gold</td>\n",
       "      <td>110</td>\n",
       "    </tr>\n",
       "    <tr>\n",
       "      <th>3</th>\n",
       "      <td>4</td>\n",
       "      <td>gold</td>\n",
       "      <td>111</td>\n",
       "    </tr>\n",
       "    <tr>\n",
       "      <th>4</th>\n",
       "      <td>5</td>\n",
       "      <td>gold</td>\n",
       "      <td>112</td>\n",
       "    </tr>\n",
       "    <tr>\n",
       "      <th>...</th>\n",
       "      <td>...</td>\n",
       "      <td>...</td>\n",
       "      <td>...</td>\n",
       "    </tr>\n",
       "    <tr>\n",
       "      <th>95</th>\n",
       "      <td>96</td>\n",
       "      <td>gold</td>\n",
       "      <td>203</td>\n",
       "    </tr>\n",
       "    <tr>\n",
       "      <th>96</th>\n",
       "      <td>97</td>\n",
       "      <td>gold</td>\n",
       "      <td>204</td>\n",
       "    </tr>\n",
       "    <tr>\n",
       "      <th>97</th>\n",
       "      <td>98</td>\n",
       "      <td>gold</td>\n",
       "      <td>205</td>\n",
       "    </tr>\n",
       "    <tr>\n",
       "      <th>98</th>\n",
       "      <td>99</td>\n",
       "      <td>gold</td>\n",
       "      <td>7</td>\n",
       "    </tr>\n",
       "    <tr>\n",
       "      <th>99</th>\n",
       "      <td>100</td>\n",
       "      <td>gold</td>\n",
       "      <td>207</td>\n",
       "    </tr>\n",
       "  </tbody>\n",
       "</table>\n",
       "<p>100 rows × 3 columns</p>\n",
       "</div>"
      ],
      "text/plain": [
       "    No. of days  Name  Price of Gold\n",
       "0             1  gold            108\n",
       "1             2  gold            109\n",
       "2             3  gold            110\n",
       "3             4  gold            111\n",
       "4             5  gold            112\n",
       "..          ...   ...            ...\n",
       "95           96  gold            203\n",
       "96           97  gold            204\n",
       "97           98  gold            205\n",
       "98           99  gold              7\n",
       "99          100  gold            207\n",
       "\n",
       "[100 rows x 3 columns]"
      ]
     },
     "execution_count": 77,
     "metadata": {},
     "output_type": "execute_result"
    }
   ],
   "source": [
    "gold_price"
   ]
  },
  {
   "cell_type": "code",
   "execution_count": 90,
   "id": "77171d28",
   "metadata": {
    "scrolled": true
   },
   "outputs": [
    {
     "data": {
      "text/plain": [
       "0     108\n",
       "1     109\n",
       "2     110\n",
       "3     111\n",
       "4     112\n",
       "     ... \n",
       "95    203\n",
       "96    204\n",
       "97    205\n",
       "98      7\n",
       "99    207\n",
       "Name: Price of Gold, Length: 100, dtype: int64"
      ]
     },
     "execution_count": 90,
     "metadata": {},
     "output_type": "execute_result"
    }
   ],
   "source": [
    "price = gold_price[\"Price of Gold\"]\n",
    "price\n"
   ]
  },
  {
   "cell_type": "code",
   "execution_count": 93,
   "id": "3c960410",
   "metadata": {
    "scrolled": true
   },
   "outputs": [
    {
     "name": "stdout",
     "output_type": "stream",
     "text": [
      "[139.99]\n"
     ]
    }
   ],
   "source": [
    "# moving average\n",
    "\n",
    "price = gold_price[\"Price of Gold\"]\n",
    "\n",
    "window_size= 100\n",
    "\n",
    "\n",
    "gold_price_series =pd.Series(price)\n",
    "\n",
    "windows = gold_price_series.rolling(window_size)\n",
    "\n",
    "moving_averages = windows.mean()\n",
    "\n",
    "moving_averages_list = moving_averages.tolist()\n",
    "\n",
    "final_list = moving_averages_list[window_size - 1:]\n",
    "\n",
    "print(final_list)"
   ]
  },
  {
   "cell_type": "code",
   "execution_count": 95,
   "id": "760f00f3",
   "metadata": {},
   "outputs": [],
   "source": [
    "# just for check\n",
    "\n",
    "\n",
    "gold_price[\"average\"] = gold_price[\"Price of Gold\"].mean()"
   ]
  },
  {
   "cell_type": "code",
   "execution_count": 96,
   "id": "3ef76412",
   "metadata": {},
   "outputs": [
    {
     "data": {
      "text/html": [
       "<div>\n",
       "<style scoped>\n",
       "    .dataframe tbody tr th:only-of-type {\n",
       "        vertical-align: middle;\n",
       "    }\n",
       "\n",
       "    .dataframe tbody tr th {\n",
       "        vertical-align: top;\n",
       "    }\n",
       "\n",
       "    .dataframe thead th {\n",
       "        text-align: right;\n",
       "    }\n",
       "</style>\n",
       "<table border=\"1\" class=\"dataframe\">\n",
       "  <thead>\n",
       "    <tr style=\"text-align: right;\">\n",
       "      <th></th>\n",
       "      <th>No. of days</th>\n",
       "      <th>Name</th>\n",
       "      <th>Price of Gold</th>\n",
       "      <th>average</th>\n",
       "    </tr>\n",
       "  </thead>\n",
       "  <tbody>\n",
       "    <tr>\n",
       "      <th>0</th>\n",
       "      <td>1</td>\n",
       "      <td>gold</td>\n",
       "      <td>108</td>\n",
       "      <td>139.99</td>\n",
       "    </tr>\n",
       "    <tr>\n",
       "      <th>1</th>\n",
       "      <td>2</td>\n",
       "      <td>gold</td>\n",
       "      <td>109</td>\n",
       "      <td>139.99</td>\n",
       "    </tr>\n",
       "    <tr>\n",
       "      <th>2</th>\n",
       "      <td>3</td>\n",
       "      <td>gold</td>\n",
       "      <td>110</td>\n",
       "      <td>139.99</td>\n",
       "    </tr>\n",
       "    <tr>\n",
       "      <th>3</th>\n",
       "      <td>4</td>\n",
       "      <td>gold</td>\n",
       "      <td>111</td>\n",
       "      <td>139.99</td>\n",
       "    </tr>\n",
       "    <tr>\n",
       "      <th>4</th>\n",
       "      <td>5</td>\n",
       "      <td>gold</td>\n",
       "      <td>112</td>\n",
       "      <td>139.99</td>\n",
       "    </tr>\n",
       "    <tr>\n",
       "      <th>...</th>\n",
       "      <td>...</td>\n",
       "      <td>...</td>\n",
       "      <td>...</td>\n",
       "      <td>...</td>\n",
       "    </tr>\n",
       "    <tr>\n",
       "      <th>95</th>\n",
       "      <td>96</td>\n",
       "      <td>gold</td>\n",
       "      <td>203</td>\n",
       "      <td>139.99</td>\n",
       "    </tr>\n",
       "    <tr>\n",
       "      <th>96</th>\n",
       "      <td>97</td>\n",
       "      <td>gold</td>\n",
       "      <td>204</td>\n",
       "      <td>139.99</td>\n",
       "    </tr>\n",
       "    <tr>\n",
       "      <th>97</th>\n",
       "      <td>98</td>\n",
       "      <td>gold</td>\n",
       "      <td>205</td>\n",
       "      <td>139.99</td>\n",
       "    </tr>\n",
       "    <tr>\n",
       "      <th>98</th>\n",
       "      <td>99</td>\n",
       "      <td>gold</td>\n",
       "      <td>7</td>\n",
       "      <td>139.99</td>\n",
       "    </tr>\n",
       "    <tr>\n",
       "      <th>99</th>\n",
       "      <td>100</td>\n",
       "      <td>gold</td>\n",
       "      <td>207</td>\n",
       "      <td>139.99</td>\n",
       "    </tr>\n",
       "  </tbody>\n",
       "</table>\n",
       "<p>100 rows × 4 columns</p>\n",
       "</div>"
      ],
      "text/plain": [
       "    No. of days  Name  Price of Gold  average\n",
       "0             1  gold            108   139.99\n",
       "1             2  gold            109   139.99\n",
       "2             3  gold            110   139.99\n",
       "3             4  gold            111   139.99\n",
       "4             5  gold            112   139.99\n",
       "..          ...   ...            ...      ...\n",
       "95           96  gold            203   139.99\n",
       "96           97  gold            204   139.99\n",
       "97           98  gold            205   139.99\n",
       "98           99  gold              7   139.99\n",
       "99          100  gold            207   139.99\n",
       "\n",
       "[100 rows x 4 columns]"
      ]
     },
     "execution_count": 96,
     "metadata": {},
     "output_type": "execute_result"
    }
   ],
   "source": [
    "gold_price"
   ]
  },
  {
   "cell_type": "code",
   "execution_count": 125,
   "id": "a8390b6a",
   "metadata": {},
   "outputs": [
    {
     "ename": "AttributeError",
     "evalue": "'int' object has no attribute 'to_csv'",
     "output_type": "error",
     "traceback": [
      "\u001b[1;31m---------------------------------------------------------------------------\u001b[0m",
      "\u001b[1;31mAttributeError\u001b[0m                            Traceback (most recent call last)",
      "\u001b[1;32m~\\AppData\\Local\\Temp/ipykernel_6548/2475936415.py\u001b[0m in \u001b[0;36m<module>\u001b[1;34m\u001b[0m\n\u001b[1;32m----> 1\u001b[1;33m \u001b[0mgold_price\u001b[0m\u001b[1;33m.\u001b[0m\u001b[0mto_csv\u001b[0m\u001b[1;33m(\u001b[0m\u001b[1;34m\"exporting-gold-price.csv\"\u001b[0m\u001b[1;33m)\u001b[0m\u001b[1;33m\u001b[0m\u001b[1;33m\u001b[0m\u001b[0m\n\u001b[0m",
      "\u001b[1;31mAttributeError\u001b[0m: 'int' object has no attribute 'to_csv'"
     ]
    }
   ],
   "source": [
    "gold_price.to_csv(\"exporting-gold-price.csv\")"
   ]
  },
  {
   "cell_type": "code",
   "execution_count": 127,
   "id": "e588881b",
   "metadata": {},
   "outputs": [
    {
     "name": "stdout",
     "output_type": "stream",
     "text": [
      "message alert\n",
      "{\"return\":true,\"request_id\":\"up5mfk48x3gwjna\",\"message\":[\"SMS sent successfully.\"]}\n"
     ]
    }
   ],
   "source": [
    "import requests\n",
    "import pandas as pd\n",
    "\n",
    "\n",
    "\n",
    "\n",
    "url=\"https://www.fast2sms.com/dev/bulkV2\"\n",
    "api_key =\"6AliY2jRNCyc4bsWOZJ3Uhqw0o7uLtXexV9PnHk5FIGSzDQKT1S7K49XkweUBH2PDZ8Jhugdi3yjzW6r\"\n",
    "\n",
    "gold_price = 50\n",
    "\n",
    "\n",
    "\n",
    "if gold_price <= 100:\n",
    "    a = \"message alert\"\n",
    "else:\n",
    "    a = \"it's safe\"\n",
    "    \n",
    "    \n",
    "\n",
    "\n",
    "    \n",
    "print(a)\n",
    "\n",
    "    \n",
    "headers={\n",
    "        \"authorization\" :\"6AliY2jRNCyc4bsWOZJ3Uhqw0o7uLtXexV9PnHk5FIGSzDQKT1S7K49XkweUBH2PDZ8Jhugdi3yjzW6r\"\n",
    "       }\n",
    "\n",
    "params ={\n",
    "    \"authorization\" : \"6AliY2jRNCyc4bsWOZJ3Uhqw0o7uLtXexV9PnHk5FIGSzDQKT1S7K49XkweUBH2PDZ8Jhugdi3yjzW6r\",\n",
    "    \"message\" : a,\n",
    "    \"language\": \"english\",\n",
    "    \"route\"   : \"q\",\n",
    "    \"numbers\" : \"8789837508\"\n",
    "        }\n",
    "\n",
    "response = requests.request(\"GET\",url,headers=headers,params=params)\n",
    "print(response.text)"
   ]
  },
  {
   "cell_type": "code",
   "execution_count": null,
   "id": "f0b2e721",
   "metadata": {},
   "outputs": [],
   "source": []
  },
  {
   "cell_type": "code",
   "execution_count": null,
   "id": "81e9e911",
   "metadata": {},
   "outputs": [],
   "source": []
  }
 ],
 "metadata": {
  "kernelspec": {
   "display_name": "Python 3 (ipykernel)",
   "language": "python",
   "name": "python3"
  },
  "language_info": {
   "codemirror_mode": {
    "name": "ipython",
    "version": 3
   },
   "file_extension": ".py",
   "mimetype": "text/x-python",
   "name": "python",
   "nbconvert_exporter": "python",
   "pygments_lexer": "ipython3",
   "version": "3.9.7"
  }
 },
 "nbformat": 4,
 "nbformat_minor": 5
}
